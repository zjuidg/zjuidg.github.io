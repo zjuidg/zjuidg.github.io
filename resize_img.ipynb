{
 "cells": [
  {
   "cell_type": "code",
   "execution_count": 1,
   "metadata": {},
   "outputs": [],
   "source": [
    "from PIL import Image\n",
    "import os"
   ]
  },
  {
   "cell_type": "code",
   "execution_count": 3,
   "metadata": {},
   "outputs": [
    {
     "name": "stderr",
     "output_type": "stream",
     "text": [
      "C:\\Users\\19883\\AppData\\Local\\Temp\\ipykernel_46936\\2072969007.py:15: DeprecationWarning: ANTIALIAS is deprecated and will be removed in Pillow 10 (2023-07-01). Use Resampling.LANCZOS instead.\n",
      "  new_image = img.resize((max_width, height_size), Image.ANTIALIAS)\n"
     ]
    }
   ],
   "source": [
    "\n",
    "\n",
    "def compress_images(folder_path, max_width=600):\n",
    "    # 遍历指定文件夹中的所有文件和文件夹\n",
    "    for root, dirs, files in os.walk(folder_path):\n",
    "        for file in files:\n",
    "            # 检查文件是否是图片\n",
    "            if file.lower().endswith(('.png', '.jpg', '.jpeg', '.bmp', '.gif')):\n",
    "                # 构建完整的文件路径\n",
    "                file_path = os.path.join(root, file)\n",
    "                # 打开图片\n",
    "                with Image.open(file_path) as img:\n",
    "                    # 计算缩放比例\n",
    "                    width_percent = (max_width / float(img.size[0]))\n",
    "                    height_size = int((float(img.size[1]) * float(width_percent)))\n",
    "                    # 等比缩放图片\n",
    "                    new_image = img.resize((max_width, height_size), Image.ANTIALIAS)\n",
    "                    # 保存图片\n",
    "                    new_image.save(file_path, img.format)\n",
    "\n",
    "# 指定你的文件夹路径\n",
    "folder_path = 'D:\\project\\ZJUIDG-page\\zjuidg.github.io\\source\\projects'\n",
    "compress_images(folder_path)"
   ]
  }
 ],
 "metadata": {
  "kernelspec": {
   "display_name": "py36",
   "language": "python",
   "name": "python3"
  },
  "language_info": {
   "codemirror_mode": {
    "name": "ipython",
    "version": 3
   },
   "file_extension": ".py",
   "mimetype": "text/x-python",
   "name": "python",
   "nbconvert_exporter": "python",
   "pygments_lexer": "ipython3",
   "version": "3.9.16"
  }
 },
 "nbformat": 4,
 "nbformat_minor": 2
}
